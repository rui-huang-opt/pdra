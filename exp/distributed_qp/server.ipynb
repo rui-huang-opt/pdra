{
 "cells": [
  {
   "cell_type": "code",
   "execution_count": 1,
   "id": "8a5187be",
   "metadata": {},
   "outputs": [],
   "source": [
    "I = [\"1\", \"2\", \"3\", \"4\", \"5\", \"6\", \"7\", \"8\", \"9\"]\n",
    "E = [\n",
    "    (\"1\", \"2\"),\n",
    "    (\"2\", \"3\"),\n",
    "    (\"3\", \"4\"),\n",
    "    (\"3\", \"6\"),\n",
    "    (\"3\", \"7\"),\n",
    "    (\"4\", \"5\"),\n",
    "    (\"6\", \"8\"),\n",
    "    (\"7\", \"9\"),\n",
    "]\n",
    "\n",
    "NODE_POS = {\n",
    "    \"1\": [-2.0, 1.0],\n",
    "    \"2\": [-1.0, 0.5],\n",
    "    \"3\": [0.0, 0.0],\n",
    "    \"4\": [-1.0, -0.5],\n",
    "    \"5\": [-2.0, -1.0],\n",
    "    \"6\": [1.0, 0.5],\n",
    "    \"7\": [1.0, -0.5],\n",
    "    \"8\": [2.0, 1.0],\n",
    "    \"9\": [2.0, -1.0],\n",
    "}"
   ]
  },
  {
   "cell_type": "code",
   "execution_count": 3,
   "id": "007d4aa2",
   "metadata": {},
   "outputs": [
    {
     "name": "stderr",
     "output_type": "stream",
     "text": [
      "INFO:root:Server running on localhost:5555\n",
      "INFO:root:Node 1 registered with address 10.20.107.251:54947\n",
      "INFO:root:Node 2 registered with address 10.20.107.251:55917\n",
      "INFO:root:Node 3 registered with address 10.20.107.251:54857\n",
      "INFO:root:Node 4 registered with address 10.20.107.251:55103\n",
      "INFO:root:Node 6 registered with address 10.20.107.251:54225\n",
      "INFO:root:Node 7 registered with address 10.20.107.251:54377\n",
      "INFO:root:Node 9 registered with address 10.20.107.251:55349\n",
      "INFO:root:Node 8 registered with address 10.20.107.251:55133\n",
      "INFO:root:Node 5 registered with address 10.20.107.251:54287\n",
      "INFO:root:All nodes registered. Server is now ready.\n",
      "INFO:root:Sent neighbor addresses to all nodes.\n",
      "INFO:root:Node 6 has unregistered.\n",
      "INFO:root:Node 5 has unregistered.\n",
      "INFO:root:Node 8 has unregistered.\n",
      "INFO:root:Node 4 has unregistered.\n",
      "INFO:root:Node 2 has unregistered.\n",
      "INFO:root:Node 1 has unregistered.\n",
      "INFO:root:Node 7 has unregistered.\n",
      "INFO:root:Node 3 has unregistered.\n",
      "INFO:root:Node 9 has unregistered.\n"
     ]
    }
   ],
   "source": [
    "def server(node_names: list[str], edge_pairs: list[tuple[str, str]]) -> None:\n",
    "    from logging import basicConfig, INFO\n",
    "\n",
    "    basicConfig(level=INFO)\n",
    "\n",
    "    from topolink import Graph\n",
    "\n",
    "    graph = Graph(node_names, edge_pairs, address=\"localhost:5555\")\n",
    "    graph.deploy()\n",
    "\n",
    "\n",
    "server(I, E)"
   ]
  },
  {
   "cell_type": "code",
   "execution_count": 4,
   "id": "c342f192",
   "metadata": {},
   "outputs": [
    {
     "data": {
      "image/png": "[encoded data removed]",
      "text/plain": [
       "<Figure size 640x480 with 1 Axes>"
      ]
     },
     "metadata": {},
     "output_type": "display_data"
    }
   ],
   "source": [
    "def draw_graph(\n",
    "    node_names: list[str],\n",
    "    edge_pairs: list[tuple[str, str]],\n",
    "    node_pos: dict[str, list[float]],\n",
    ") -> None:\n",
    "    import matplotlib.pyplot as plt\n",
    "    from topolink import Graph\n",
    "\n",
    "    graph = Graph(node_names, edge_pairs, address=\"localhost:5555\")\n",
    "\n",
    "    fig, ax = plt.subplots()\n",
    "\n",
    "    ax.set_aspect(1)\n",
    "    ax.set_ylim(-1.5, 1.5)\n",
    "\n",
    "    nx_options = {\n",
    "        \"with_labels\": True,\n",
    "        \"font_size\": 20,\n",
    "        \"node_color\": \"white\",\n",
    "        \"node_size\": 1000,\n",
    "        \"edgecolors\": \"black\",\n",
    "        \"linewidths\": 1.5,\n",
    "        \"width\": 1.5,\n",
    "        \"pos\": node_pos,\n",
    "    }\n",
    "\n",
    "    graph.draw(ax, **nx_options)\n",
    "\n",
    "    plt.show()\n",
    "\n",
    "    import os\n",
    "\n",
    "    fig_dir = os.path.join(os.getcwd(), \"figures\")\n",
    "    os.makedirs(fig_dir, exist_ok=True)\n",
    "\n",
    "    fig_path = os.path.join(fig_dir, \"fig_1.pdf\")\n",
    "    fig.savefig(fig_path, format=\"pdf\", bbox_inches=\"tight\")\n",
    "\n",
    "\n",
    "draw_graph(I, E, NODE_POS)"
   ]
  }
 ],
 "metadata": {
  "kernelspec": {
   "display_name": ".venv",
   "language": "python",
   "name": "python3"
  },
  "language_info": {
   "codemirror_mode": {
    "name": "ipython",
    "version": 3
   },
   "file_extension": ".py",
   "mimetype": "text/x-python",
   "name": "python",
   "nbconvert_exporter": "python",
   "pygments_lexer": "ipython3",
   "version": "3.10.12"
  }
 },
 "nbformat": 4,
 "nbformat_minor": 5
}
