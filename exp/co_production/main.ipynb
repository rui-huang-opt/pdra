{
 "cells": [
  {
   "cell_type": "markdown",
   "id": "433e2b0c",
   "metadata": {},
   "source": [
    "# Collaborative Production\n",
    "\n",
    "This is the script for the numerical experiment in the paper ...\n",
    "\n",
    "## Set some important directories path (**compulsory**):"
   ]
  },
  {
   "cell_type": "code",
   "execution_count": 1,
   "id": "cecdb044",
   "metadata": {},
   "outputs": [],
   "source": [
    "if __name__ == \"__main__\":\n",
    "    import os\n",
    "\n",
    "    script_dir = os.getcwd()\n",
    "    data_dir = os.path.join(script_dir, \"data\")\n",
    "    figure_dir = os.path.join(script_dir, \"figures\")\n",
    "    results_dir = os.path.join(script_dir, \"results\")\n",
    "\n",
    "    os.makedirs(figure_dir, exist_ok=True)\n",
    "    os.makedirs(results_dir, exist_ok=True)"
   ]
  },
  {
   "cell_type": "markdown",
   "id": "597e17b1",
   "metadata": {},
   "source": [
    "## Problem formulation:\n",
    "$$\n",
    "\\begin{split}\n",
    "    \\min_{\\boldsymbol{x}_{1}, \\ldots, \\boldsymbol{x}_{9}} \\quad &\\sum_{i \\in \\mathcal{I}}\\left( \\frac{1}{2}\\boldsymbol{x}_{i}^{\\top}Q_{i}\\boldsymbol{x}_{i} + \\boldsymbol{g}_{i}^{\\top}\\boldsymbol{x}_{i} \\right)\\\\\n",
    "    \\text{s.t.} \\quad\n",
    "    &\\begin{cases}\n",
    "        \\sum_{i \\in \\mathcal{I}}\\boldsymbol{a}_{i, 1}^{\\top}\\boldsymbol{x}_{i} \\leq b_{1}(D) \\\\\n",
    "        \\sum_{i \\in \\mathcal{I}}\\boldsymbol{a}_{i, 2}^{\\top}\\boldsymbol{x}_{i} \\leq b_{2}(D) \\\\\n",
    "        \\sum_{i \\in \\mathcal{I}}\\boldsymbol{a}_{i, 3}^{\\top}\\boldsymbol{x}_{i} \\leq b_{3}(D)\n",
    "    \\end{cases}\n",
    "\\end{split}\n",
    "$$"
   ]
  },
  {
   "cell_type": "markdown",
   "id": "f7a636a7",
   "metadata": {},
   "source": [
    "### Load data (**compulsory**):"
   ]
  },
  {
   "cell_type": "code",
   "execution_count": 2,
   "id": "f9e873e4",
   "metadata": {},
   "outputs": [],
   "source": [
    "if __name__ == \"__main__\":\n",
    "    import os\n",
    "    import numpy as np\n",
    "    from typing import Dict\n",
    "    from numpy.typing import NDArray\n",
    "\n",
    "    node_names = [f\"{i}\" for i in range(1, 16)]\n",
    "\n",
    "    c_pro: Dict[str, NDArray[np.float64]] = np.load(os.path.join(data_dir, \"c_pro.npz\"))\n",
    "    A_mat: Dict[str, NDArray[np.float64]] = np.load(os.path.join(data_dir, \"A_mat.npz\"))\n",
    "    x_lab: Dict[str, NDArray[np.float64]] = np.load(os.path.join(data_dir, \"x_lab.npz\"))\n",
    "\n",
    "    b_mat: NDArray[np.float64] = np.load(os.path.join(data_dir, \"b_mat.npy\"))"
   ]
  },
  {
   "cell_type": "markdown",
   "id": "e00ff3a6",
   "metadata": {},
   "source": [
    "### Run centralized optimization (**compulsory**):"
   ]
  },
  {
   "cell_type": "code",
   "execution_count": 3,
   "id": "60034804",
   "metadata": {},
   "outputs": [
    {
     "name": "stdout",
     "output_type": "stream",
     "text": [
      "Optimal value: -62.837151677467475\n"
     ]
    }
   ],
   "source": [
    "if __name__ == \"__main__\":\n",
    "    import cvxpy as cp\n",
    "\n",
    "    x = {i: cp.Variable(A_mat[i].shape[1]) for i in node_names}\n",
    "\n",
    "    cost = cp.sum([-c_pro[i] @ x[i] for i in node_names])\n",
    "\n",
    "    lab_constraints: list[cp.Constraint] = [x[i] - x_lab[i] <= 0 for i in node_names]\n",
    "    mat_constraints: list[cp.Constraint] = [\n",
    "        sum([A_mat[i] @ x[i] for i in node_names], start=cp.Constant(0)) - b_mat <= 0\n",
    "    ]\n",
    "\n",
    "    constraints = mat_constraints + lab_constraints\n",
    "\n",
    "    problem = cp.Problem(cp.Minimize(cost), constraints)\n",
    "    problem.solve(solver=\"GLPK\")\n",
    "\n",
    "    opt_val: np.float64 = problem.value  # type: ignore\n",
    "\n",
    "    print(f\"Optimal value: {opt_val}\")"
   ]
  },
  {
   "cell_type": "markdown",
   "id": "e5bcef71",
   "metadata": {},
   "source": [
    "### Run distributed optimization (**compulsory**):"
   ]
  },
  {
   "cell_type": "code",
   "execution_count": 4,
   "id": "2be6a9b2",
   "metadata": {},
   "outputs": [],
   "source": [
    "if __name__ == \"__main__\":\n",
    "    from functools import partial\n",
    "    from pdra import Node, TruncatedLaplace\n",
    "\n",
    "    node_params = {\n",
    "        \"max_iter\": 3000,\n",
    "        \"step_size\": 10.0,\n",
    "        \"method\": \"SM\",\n",
    "        \"solver\": \"GLPK\",\n",
    "        \"results_prefix\": results_dir,\n",
    "    }\n",
    "\n",
    "    epsilon = 0.5\n",
    "    delta = 0.005\n",
    "    Delta = 0.1\n",
    "\n",
    "    s = (Delta / epsilon) * np.log(b_mat.size * (np.exp(epsilon) - 1) / delta + 1)\n",
    "    tl = TruncatedLaplace(-s, s, 0, Delta / epsilon)\n",
    "    b_mat_bar = b_mat - s * np.ones(b_mat.size) + tl.sample(b_mat.size)\n",
    "\n",
    "    \"\"\"\n",
    "    Distributed resource allocation\n",
    "    \"\"\"\n",
    "\n",
    "    def f(x_i: cp.Variable, index: str) -> cp.Expression:\n",
    "        return -c_pro[index] @ x_i\n",
    "\n",
    "    def g(x_i: cp.Variable, index: str) -> cp.Expression:\n",
    "        return x_i - x_lab[index]\n",
    "\n",
    "    nodes = [\n",
    "        Node.create(\n",
    "            \"core\", i, partial(f, index=i), A_mat[i], partial(g, index=i), **node_params\n",
    "        )\n",
    "        for i in node_names\n",
    "    ]\n",
    "    nodes[0].set_resource(b_mat_bar)\n",
    "\n",
    "    for node in nodes:\n",
    "        node.start()\n",
    "\n",
    "    for node in nodes:\n",
    "        node.join()"
   ]
  },
  {
   "cell_type": "markdown",
   "id": "5b2f7cbe",
   "metadata": {},
   "source": [
    "## Set up latex options for matplotlib (**compulsory**):"
   ]
  },
  {
   "cell_type": "code",
   "execution_count": 5,
   "id": "0be9f5e0",
   "metadata": {},
   "outputs": [],
   "source": [
    "if __name__ == \"__main__\":\n",
    "    import matplotlib.pyplot as plt\n",
    "\n",
    "    plt.rcParams[\"text.usetex\"] = True\n",
    "    plt.rcParams[\"text.latex.preamble\"] = \"\\\\usepackage{amsmath}\"\n",
    "    plt.rcParams[\"font.family\"] = \"serif\"\n",
    "    plt.rcParams[\"font.serif\"] = \"Times New Roman\"\n",
    "    plt.rcParams[\"font.size\"] = 15"
   ]
  },
  {
   "cell_type": "markdown",
   "id": "e38a668a",
   "metadata": {},
   "source": [
    "## Results plot:\n",
    "- Load results:"
   ]
  },
  {
   "cell_type": "code",
   "execution_count": 6,
   "id": "f98b6632",
   "metadata": {},
   "outputs": [],
   "source": [
    "if __name__ == \"__main__\":\n",
    "    iterations = np.arange(1, node_params[\"max_iter\"] + 1)\n",
    "    results = {\n",
    "        i: np.load(os.path.join(results_dir, f\"node_{i}.npz\")) for i in node_names\n",
    "    }"
   ]
  },
  {
   "cell_type": "markdown",
   "id": "3629aacd",
   "metadata": {},
   "source": [
    "- Error evolution:"
   ]
  },
  {
   "cell_type": "code",
   "execution_count": 7,
   "id": "1ea52889",
   "metadata": {},
   "outputs": [
    {
     "data": {
      "image/png": "[encoded data removed]",
      "text/plain": [
       "<Figure size 640x480 with 1 Axes>"
      ]
     },
     "metadata": {},
     "output_type": "display_data"
    }
   ],
   "source": [
    "if __name__ == \"__main__\":\n",
    "    from matplotlib.ticker import MultipleLocator\n",
    "\n",
    "    fig2, ax2 = plt.subplots()\n",
    "\n",
    "    f_i_series = {i: results[i][\"f_i_series\"] for i in node_names}\n",
    "    err_series = sum(f_i_series.values()) - opt_val\n",
    "\n",
    "    ax2.step(\n",
    "        iterations,\n",
    "        err_series,\n",
    "        label=r\"$P(\\boldsymbol{x}^*)-P(\\boldsymbol{x}^{(k)})$\",\n",
    "    )\n",
    "\n",
    "    ax2.set_xlabel(\"Iteration number $k$\")\n",
    "    ax2.yaxis.set_major_locator(MultipleLocator(10))\n",
    "    ax2.legend()\n",
    "\n",
    "    plt.show()"
   ]
  },
  {
   "cell_type": "markdown",
   "id": "84cb7ac3",
   "metadata": {},
   "source": [
    "- Constraints violation:"
   ]
  },
  {
   "cell_type": "code",
   "execution_count": 8,
   "id": "fa3473ac",
   "metadata": {},
   "outputs": [
    {
     "data": {
      "image/png": "[encoded data removed]",
      "text/plain": [
       "<Figure size 640x480 with 1 Axes>"
      ]
     },
     "metadata": {},
     "output_type": "display_data"
    }
   ],
   "source": [
    "if __name__ == \"__main__\":\n",
    "    fig3, ax3 = plt.subplots()\n",
    "    x_series: Dict[str, NDArray[np.float64]] = {\n",
    "        i: results[i][\"x_i_series\"] for i in node_names\n",
    "    }\n",
    "\n",
    "    constraint_values: NDArray[np.float64] = (\n",
    "        sum([A_mat[i] @ x_series[i] for i in node_names]) - b_mat[:, np.newaxis]\n",
    "    )\n",
    "\n",
    "    for i in range(constraint_values.shape[0]):\n",
    "        ax3.step(iterations, constraint_values[i], label=f\"material {i + 1}\")\n",
    "\n",
    "    ax3.set_xlabel(\"Iteration number $k$\")\n",
    "    ax3.legend()\n",
    "\n",
    "    plt.show()"
   ]
  },
  {
   "cell_type": "markdown",
   "id": "b81af92f",
   "metadata": {},
   "source": [
    "## Save the figures:"
   ]
  },
  {
   "cell_type": "code",
   "execution_count": 9,
   "id": "e508ac8e",
   "metadata": {},
   "outputs": [],
   "source": [
    "if __name__ == \"__main__\":\n",
    "    fig2.savefig(os.path.join(figure_dir, \"fig_3_a.pdf\"), format=\"pdf\", bbox_inches=\"tight\")\n",
    "    fig3.savefig(os.path.join(figure_dir, \"fig_3_b.pdf\"), format=\"pdf\", bbox_inches=\"tight\")"
   ]
  }
 ],
 "metadata": {
  "kernelspec": {
   "display_name": ".venv",
   "language": "python",
   "name": "python3"
  },
  "language_info": {
   "codemirror_mode": {
    "name": "ipython",
    "version": 3
   },
   "file_extension": ".py",
   "mimetype": "text/x-python",
   "name": "python",
   "nbconvert_exporter": "python",
   "pygments_lexer": "ipython3",
   "version": "3.10.12"
  }
 },
 "nbformat": 4,
 "nbformat_minor": 5
}
