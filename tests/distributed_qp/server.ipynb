{
 "cells": [
  {
   "cell_type": "code",
   "execution_count": 1,
   "id": "bdd704ea",
   "metadata": {},
   "outputs": [
    {
     "name": "stderr",
     "output_type": "stream",
     "text": [
      "INFO:root:Server running on localhost:5555\n",
      "INFO:root:Node 1 registered with address 10.20.107.251:55143\n",
      "INFO:root:Node 2 registered with address 10.20.107.251:54529\n",
      "INFO:root:Node 3 registered with address 10.20.107.251:55295\n",
      "INFO:root:Node 5 registered with address 10.20.107.251:54769\n",
      "INFO:root:Node 4 registered with address 10.20.107.251:55521\n",
      "INFO:root:All nodes registered. Server is now ready.\n",
      "INFO:root:Sent neighbor addresses to all nodes.\n",
      "INFO:root:Node 4 has unregistered.\n",
      "INFO:root:Node 5 has unregistered.\n",
      "INFO:root:Node 2 has unregistered.\n",
      "INFO:root:Node 1 has unregistered.\n",
      "INFO:root:Node 3 has unregistered.\n"
     ]
    }
   ],
   "source": [
    "def server() -> None:\n",
    "    import matplotlib.pyplot as plt\n",
    "    from logging import basicConfig, INFO\n",
    "\n",
    "    basicConfig(level=INFO)\n",
    "\n",
    "    from topolink import Graph\n",
    "\n",
    "    node_names = [\"1\", \"2\", \"3\", \"4\", \"5\"]\n",
    "    edge_pairs = [(\"1\", \"2\"), (\"2\", \"3\"), (\"3\", \"4\"), (\"4\", \"5\"), (\"5\", \"1\")]\n",
    "\n",
    "    graph = Graph(node_names, edge_pairs, address=\"localhost:5555\")\n",
    "    graph.deploy()\n",
    "\n",
    "\n",
    "server()"
   ]
  },
  {
   "cell_type": "code",
   "execution_count": 2,
   "id": "70832c5f",
   "metadata": {},
   "outputs": [
    {
     "data": {
      "image/png": "[encoded data removed]",
      "text/plain": [
       "<Figure size 640x480 with 1 Axes>"
      ]
     },
     "metadata": {},
     "output_type": "display_data"
    }
   ],
   "source": [
    "def draw_graph() -> None:\n",
    "    import matplotlib.pyplot as plt\n",
    "    from topolink import Graph\n",
    "\n",
    "    node_names = [\"1\", \"2\", \"3\", \"4\", \"5\"]\n",
    "    edge_pairs = [(\"1\", \"2\"), (\"2\", \"3\"), (\"3\", \"4\"), (\"4\", \"5\"), (\"5\", \"1\")]\n",
    "\n",
    "    graph = Graph(node_names, edge_pairs)\n",
    "\n",
    "    _, ax = plt.subplots()\n",
    "\n",
    "    node_positions = {\n",
    "        \"1\": (0, 0),\n",
    "        \"2\": (1, 0),\n",
    "        \"3\": (1, 1),\n",
    "        \"4\": (0, 1),\n",
    "        \"5\": (0.5, 0.5),\n",
    "    }\n",
    "\n",
    "    nx_options = {\n",
    "        \"pos\": node_positions,\n",
    "        \"node_color\": \"lightblue\",\n",
    "        \"node_size\": 500,\n",
    "        \"font_size\": 16,\n",
    "        \"font_color\": \"black\",\n",
    "        \"edge_color\": \"gray\",\n",
    "        \"width\": 2,\n",
    "    }\n",
    "\n",
    "    graph.draw(ax, **nx_options)\n",
    "\n",
    "    plt.show()\n",
    "\n",
    "\n",
    "draw_graph()"
   ]
  }
 ],
 "metadata": {
  "kernelspec": {
   "display_name": ".venv",
   "language": "python",
   "name": "python3"
  },
  "language_info": {
   "codemirror_mode": {
    "name": "ipython",
    "version": 3
   },
   "file_extension": ".py",
   "mimetype": "text/x-python",
   "name": "python",
   "nbconvert_exporter": "python",
   "pygments_lexer": "ipython3",
   "version": "3.10.12"
  }
 },
 "nbformat": 4,
 "nbformat_minor": 5
}
